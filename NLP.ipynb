{
  "metadata": {
    "kernelspec": {
      "language": "python",
      "display_name": "Python 3",
      "name": "python3"
    },
    "language_info": {
      "pygments_lexer": "ipython3",
      "nbconvert_exporter": "python",
      "version": "3.6.4",
      "file_extension": ".py",
      "codemirror_mode": {
        "name": "ipython",
        "version": 3
      },
      "name": "python",
      "mimetype": "text/x-python"
    },
    "colab": {
      "name": "152236035101-261.ipynb",
      "provenance": [],
      "collapsed_sections": [],
      "include_colab_link": true
    },
    "accelerator": "GPU",
    "gpuClass": "standard"
  },
  "nbformat_minor": 0,
  "nbformat": 4,
  "cells": [
    {
      "cell_type": "markdown",
      "metadata": {
        "id": "view-in-github",
        "colab_type": "text"
      },
      "source": [
        "<a href=\"https://colab.research.google.com/github/agnanp/learntf/blob/main/NLP.ipynb\" target=\"_parent\"><img src=\"https://colab.research.google.com/assets/colab-badge.svg\" alt=\"Open In Colab\"/></a>"
      ]
    },
    {
      "cell_type": "code",
      "source": [
        "\n",
        "import re\n",
        "import string\n",
        "import numpy as np\n",
        "import pandas as pd\n",
        "import matplotlib.pyplot as plt\n",
        "\n",
        "from sklearn.preprocessing import LabelEncoder\n",
        "from sklearn.model_selection import train_test_split\n",
        "\n",
        "from tensorflow.keras.utils import to_categorical\n",
        "from tensorflow.keras.preprocessing.text import Tokenizer\n",
        "from tensorflow.keras.preprocessing.sequence import pad_sequences\n",
        "\n",
        "from tensorflow.keras.optimizers import Adam\n",
        "from tensorflow.keras.models import Sequential\n",
        "from tensorflow.keras.callbacks import EarlyStopping\n",
        "from tensorflow.keras.layers import Dense, LSTM, Embedding, Bidirectional, Dropout"
      ],
      "metadata": {
        "_uuid": "8f2839f25d086af736a60e9eeb907d3b93b6e0e5",
        "_cell_guid": "b1076dfc-b9ad-4769-8c92-a6c4dae69d19",
        "execution": {
          "iopub.status.busy": "2021-10-28T16:49:56.359082Z",
          "iopub.execute_input": "2021-10-28T16:49:56.359603Z",
          "iopub.status.idle": "2021-10-28T16:49:56.365625Z",
          "shell.execute_reply.started": "2021-10-28T16:49:56.359565Z",
          "shell.execute_reply": "2021-10-28T16:49:56.364911Z"
        },
        "trusted": true,
        "id": "t68PiZcNQpq0"
      },
      "execution_count": null,
      "outputs": []
    },
    {
      "cell_type": "code",
      "source": [
        "from google.colab import drive\n",
        "drive.mount('/content/drive')"
      ],
      "metadata": {
        "colab": {
          "base_uri": "https://localhost:8080/"
        },
        "id": "S5tbyjXjQ2FQ",
        "outputId": "5e5504a5-44d1-4b3f-ad3c-4f3725d1ba14"
      },
      "execution_count": null,
      "outputs": [
        {
          "output_type": "stream",
          "name": "stdout",
          "text": [
            "Mounted at /content/drive\n"
          ]
        }
      ]
    },
    {
      "cell_type": "code",
      "source": [
        "# Text preprocessing function\n",
        "str_punc = string.punctuation.replace(',', '').replace(\"'\",'')\n",
        "\n",
        "def clean(text):\n",
        "    global str_punc\n",
        "    text = re.sub(r'[^a-zA-Z ]', '', text)\n",
        "    text = text.lower()\n",
        "    return text    "
      ],
      "metadata": {
        "execution": {
          "iopub.status.busy": "2021-10-28T16:49:24.707767Z",
          "iopub.execute_input": "2021-10-28T16:49:24.70831Z",
          "iopub.status.idle": "2021-10-28T16:49:24.713891Z",
          "shell.execute_reply.started": "2021-10-28T16:49:24.708271Z",
          "shell.execute_reply": "2021-10-28T16:49:24.712859Z"
        },
        "trusted": true,
        "id": "8D27h1V5Qpq5"
      },
      "execution_count": null,
      "outputs": []
    },
    {
      "cell_type": "code",
      "source": [
        "# Read dataset & Preprocess text\n",
        "df_train = pd.read_csv('/content/drive/MyDrive/tugas/train.txt', names=['Text', 'Emotion'], sep=';')\n",
        "df_val = pd.read_csv('/content/drive/MyDrive/tugas/val.txt', names=['Text', 'Emotion'], sep=';')\n",
        "df_test = pd.read_csv('/content/drive/MyDrive/tugas/test.txt', names=['Text', 'Emotion'], sep=';')\n",
        "\n",
        "X_train = df_train['Text'].apply(clean)\n",
        "y_train = df_train['Emotion']\n",
        "\n",
        "X_test = df_test['Text'].apply(clean)\n",
        "y_test = df_test['Emotion']\n",
        "\n",
        "X_val = df_val['Text'].apply(clean)\n",
        "y_val = df_val['Emotion']"
      ],
      "metadata": {
        "execution": {
          "iopub.status.busy": "2021-10-28T17:00:39.84876Z",
          "iopub.execute_input": "2021-10-28T17:00:39.849444Z",
          "iopub.status.idle": "2021-10-28T17:00:39.970872Z",
          "shell.execute_reply.started": "2021-10-28T17:00:39.849404Z",
          "shell.execute_reply": "2021-10-28T17:00:39.970153Z"
        },
        "trusted": true,
        "id": "orwQDQnyQpq7"
      },
      "execution_count": null,
      "outputs": []
    },
    {
      "cell_type": "code",
      "source": [
        "# Visualize classes counts\n",
        "colors = np.array([\"gray\", 'orangered', 'hotpink', 'gold', 'teal', 'cornflowerblue'])\n",
        "\n",
        "plt.bar(y_train.unique(), y_train.value_counts(), color=colors)\n",
        "plt.title(\"Training data - classes counts\")\n",
        "plt.show()\n",
        "\n",
        "plt.bar(y_test.unique(), y_test.value_counts(), color=colors)\n",
        "plt.title(\"Testing data - classes counts\")\n",
        "plt.show()\n",
        "\n",
        "plt.bar(y_val.unique(), y_val.value_counts(), color=colors)\n",
        "plt.title(\"Validation data - classes counts\")\n",
        "plt.show()"
      ],
      "metadata": {
        "execution": {
          "iopub.status.busy": "2021-10-28T17:00:42.26372Z",
          "iopub.execute_input": "2021-10-28T17:00:42.264322Z",
          "iopub.status.idle": "2021-10-28T17:00:42.812352Z",
          "shell.execute_reply.started": "2021-10-28T17:00:42.264285Z",
          "shell.execute_reply": "2021-10-28T17:00:42.811716Z"
        },
        "trusted": true,
        "colab": {
          "base_uri": "https://localhost:8080/",
          "height": 809
        },
        "id": "_OFClA3aQpq9",
        "outputId": "d0e328e3-237b-40ea-cea4-f3d5fb8aa71e"
      },
      "execution_count": null,
      "outputs": [
        {
          "output_type": "display_data",
          "data": {
            "text/plain": [
              "<Figure size 432x288 with 1 Axes>"
            ],
            "image/png": "[encoded data removed]"
          },
          "metadata": {
            "needs_background": "light"
          }
        },
        {
          "output_type": "display_data",
          "data": {
            "text/plain": [
              "<Figure size 432x288 with 1 Axes>"
            ],
            "image/png": "[encoded data removed]"
          },
          "metadata": {
            "needs_background": "light"
          }
        },
        {
          "output_type": "display_data",
          "data": {
            "text/plain": [
              "<Figure size 432x288 with 1 Axes>"
            ],
            "image/png": "[encoded data removed]"
          },
          "metadata": {
            "needs_background": "light"
          }
        }
      ]
    },
    {
      "cell_type": "code",
      "source": [
        "# Encode labels\n",
        "# Sudah disediakan beberapa variable, lengkapi variabel tersebut\n",
        "le = LabelEncoder()\n",
        "y_train = le.fit_transform(y_train)\n",
        "y_test = le.fit_transform(y_test)\n",
        "y_val = le.fit_transform(y_val)\n",
        "\n",
        "y_train = y_train.reshape(-1,1)\n",
        "y_test = y_test.reshape(-1,1)\n",
        "y_val = y_val.reshape(-1,1)"
      ],
      "metadata": {
        "execution": {
          "iopub.status.busy": "2021-10-28T17:01:21.726601Z",
          "iopub.execute_input": "2021-10-28T17:01:21.72706Z",
          "iopub.status.idle": "2021-10-28T17:01:21.743992Z",
          "shell.execute_reply.started": "2021-10-28T17:01:21.727018Z",
          "shell.execute_reply": "2021-10-28T17:01:21.743311Z"
        },
        "trusted": true,
        "id": "V9F2tWMGQpq_"
      },
      "execution_count": null,
      "outputs": []
    },
    {
      "cell_type": "code",
      "source": [
        "# Tokenize words\n",
        "tokenizer = Tokenizer()\n",
        "tokenizer.fit_on_texts(pd.concat([X_train, X_test], axis=0))\n",
        "\n",
        "sequences_train = tokenizer.texts_to_sequences(X_train)\n",
        "sequences_test = tokenizer.texts_to_sequences(X_test)\n",
        "sequences_val = tokenizer.texts_to_sequences(X_val)\n",
        "\n",
        "X_train = pad_sequences(sequences_train, maxlen=256, truncating='pre')\n",
        "X_test = pad_sequences(sequences_test, maxlen=256, truncating='pre')\n",
        "X_val = pad_sequences(sequences_val, maxlen=256, truncating='pre')\n",
        "\n",
        "vocabSize = len(tokenizer.index_word) + 1\n",
        "print(f\"Vocabulary size = {vocabSize}\")"
      ],
      "metadata": {
        "execution": {
          "iopub.status.busy": "2021-10-28T17:01:29.161255Z",
          "iopub.execute_input": "2021-10-28T17:01:29.161522Z",
          "iopub.status.idle": "2021-10-28T17:01:30.218061Z",
          "shell.execute_reply.started": "2021-10-28T17:01:29.161484Z",
          "shell.execute_reply": "2021-10-28T17:01:30.217279Z"
        },
        "trusted": true,
        "colab": {
          "base_uri": "https://localhost:8080/"
        },
        "id": "d40kAQnHQprC",
        "outputId": "88e76ffc-b283-4f24-fab5-b7de0cd50e1a"
      },
      "execution_count": null,
      "outputs": [
        {
          "output_type": "stream",
          "name": "stdout",
          "text": [
            "Vocabulary size = 16185\n"
          ]
        }
      ]
    },
    {
      "cell_type": "code",
      "source": [
        "# Read GloVE embeddings\n",
        "path_to_glove_file = '/content/drive/MyDrive/tugas/glove.6B.200d.txt'\n",
        "num_tokens = vocabSize\n",
        "embedding_dim = 200\n",
        "hits = 0\n",
        "misses = 0\n",
        "embeddings_index = {}\n",
        "\n",
        "# Read word vectors\n",
        "with open(path_to_glove_file) as f:\n",
        "    for line in f:\n",
        "        word, coefs = line.split(maxsplit=1)\n",
        "        coefs = np.fromstring(coefs, \"f\", sep=\" \")\n",
        "        embeddings_index[word] = coefs\n",
        "print(\"Found %s word vectors.\" % len(embeddings_index))\n",
        "\n",
        "\n",
        "# Assign word vectors to our dictionary/vocabulary\n",
        "embedding_matrix = np.zeros((num_tokens, embedding_dim))\n",
        "for word, i in tokenizer.word_index.items():\n",
        "    embedding_vector = embeddings_index.get(word)\n",
        "    if embedding_vector is not None:\n",
        "        # Words not found in embedding index will be all-zeros.\n",
        "        # This includes the representation for \"padding\" and \"OOV\"\n",
        "        embedding_matrix[i] = embedding_vector\n",
        "        hits += 1\n",
        "    else:\n",
        "        misses += 1\n",
        "print(\"Converted %d words (%d misses)\" % (hits, misses))"
      ],
      "metadata": {
        "execution": {
          "iopub.status.busy": "2021-10-28T17:01:33.7402Z",
          "iopub.execute_input": "2021-10-28T17:01:33.740659Z",
          "iopub.status.idle": "2021-10-28T17:01:56.449165Z",
          "shell.execute_reply.started": "2021-10-28T17:01:33.740619Z",
          "shell.execute_reply": "2021-10-28T17:01:56.44837Z"
        },
        "trusted": true,
        "id": "e67R2xDlQprD",
        "colab": {
          "base_uri": "https://localhost:8080/"
        },
        "outputId": "86330f8b-4c72-428b-d530-7bb742a79a0a"
      },
      "execution_count": null,
      "outputs": [
        {
          "output_type": "stream",
          "name": "stdout",
          "text": [
            "Found 400000 word vectors.\n",
            "Converted 15069 words (1115 misses)\n"
          ]
        }
      ]
    },
    {
      "cell_type": "code",
      "source": [
        "# Build neural network architecture\n",
        "model = Sequential([\n",
        "                    Embedding(vocabSize, embedding_dim, input_length=256),\n",
        "                    Bidirectional(LSTM(64, return_sequences=True)),\n",
        "                    Dropout(0.2),\n",
        "                    Bidirectional(LSTM(32, return_sequences=True)),\n",
        "                    Dropout(0.2),\n",
        "                    Bidirectional(LSTM(16)),\n",
        "                    Dense(8, activation='relu'),\n",
        "                    Dropout(0.2),\n",
        "                    Dense(6,activation='softmax')\n",
        "])\n",
        "adam = Adam(learning_rate=0.005)\n",
        "#code here\n",
        "model.compile(loss='sparse_categorical_crossentropy',optimizer=adam,metrics=['accuracy'])\n",
        "model.summary()"
      ],
      "metadata": {
        "execution": {
          "iopub.status.busy": "2021-10-28T17:02:11.518662Z",
          "iopub.execute_input": "2021-10-28T17:02:11.519376Z",
          "iopub.status.idle": "2021-10-28T17:02:13.214957Z",
          "shell.execute_reply.started": "2021-10-28T17:02:11.519339Z",
          "shell.execute_reply": "2021-10-28T17:02:13.214256Z"
        },
        "trusted": true,
        "id": "wSJWnBz2QprE",
        "colab": {
          "base_uri": "https://localhost:8080/"
        },
        "outputId": "c611c86d-9f8a-41b7-91d0-2bbccb35d233"
      },
      "execution_count": null,
      "outputs": [
        {
          "output_type": "stream",
          "name": "stdout",
          "text": [
            "Model: \"sequential\"\n",
            "_________________________________________________________________\n",
            " Layer (type)                Output Shape              Param #   \n",
            "=================================================================\n",
            " embedding (Embedding)       (None, 256, 200)          3237000   \n",
            "                                                                 \n",
            " bidirectional (Bidirectiona  (None, 256, 128)         135680    \n",
            " l)                                                              \n",
            "                                                                 \n",
            " dropout (Dropout)           (None, 256, 128)          0         \n",
            "                                                                 \n",
            " bidirectional_1 (Bidirectio  (None, 256, 64)          41216     \n",
            " nal)                                                            \n",
            "                                                                 \n",
            " dropout_1 (Dropout)         (None, 256, 64)           0         \n",
            "                                                                 \n",
            " bidirectional_2 (Bidirectio  (None, 32)               10368     \n",
            " nal)                                                            \n",
            "                                                                 \n",
            " dense (Dense)               (None, 8)                 264       \n",
            "                                                                 \n",
            " dropout_2 (Dropout)         (None, 8)                 0         \n",
            "                                                                 \n",
            " dense_1 (Dense)             (None, 6)                 54        \n",
            "                                                                 \n",
            "=================================================================\n",
            "Total params: 3,424,582\n",
            "Trainable params: 3,424,582\n",
            "Non-trainable params: 0\n",
            "_________________________________________________________________\n"
          ]
        }
      ]
    },
    {
      "cell_type": "code",
      "source": [
        "#Callback\n",
        "callback = EarlyStopping(\n",
        "    #code here (contains at least : monitor, patience, restore_best_weights)\n",
        "    monitor='val_loss',\n",
        "    min_delta=0.001,\n",
        "    patience=2,\n",
        "    restore_best_weights=True,\n",
        ")"
      ],
      "metadata": {
        "execution": {
          "iopub.status.busy": "2021-10-28T17:02:20.557742Z",
          "iopub.execute_input": "2021-10-28T17:02:20.55807Z",
          "iopub.status.idle": "2021-10-28T17:02:20.562524Z",
          "shell.execute_reply.started": "2021-10-28T17:02:20.558037Z",
          "shell.execute_reply": "2021-10-28T17:02:20.561488Z"
        },
        "trusted": true,
        "id": "VSjuWsCsQprG"
      },
      "execution_count": null,
      "outputs": []
    },
    {
      "cell_type": "code",
      "source": [
        "# Fit model\n",
        "# code here\n",
        "NUM_EPOCHS = 10\n",
        "BATCH_SIZE = 64\n",
        "history = model.fit(X_train, y_train, batch_size=BATCH_SIZE, epochs=NUM_EPOCHS, validation_data=(X_test, y_test), callbacks=[callback])"
      ],
      "metadata": {
        "execution": {
          "iopub.status.busy": "2021-10-28T17:02:22.580574Z",
          "iopub.execute_input": "2021-10-28T17:02:22.581177Z",
          "iopub.status.idle": "2021-10-28T17:09:55.805217Z",
          "shell.execute_reply.started": "2021-10-28T17:02:22.581141Z",
          "shell.execute_reply": "2021-10-28T17:09:55.804395Z"
        },
        "trusted": true,
        "id": "CM_GyHrFQprI",
        "colab": {
          "base_uri": "https://localhost:8080/"
        },
        "outputId": "436d02ab-a987-4b55-b933-db8124f8e1d8"
      },
      "execution_count": null,
      "outputs": [
        {
          "output_type": "stream",
          "name": "stdout",
          "text": [
            "Epoch 1/10\n",
            "250/250 [==============================] - 28s 69ms/step - loss: 1.5936 - accuracy: 0.3284 - val_loss: 1.4986 - val_accuracy: 0.3675\n",
            "Epoch 2/10\n",
            "250/250 [==============================] - 16s 66ms/step - loss: 1.3610 - accuracy: 0.4091 - val_loss: 1.2073 - val_accuracy: 0.4370\n",
            "Epoch 3/10\n",
            "250/250 [==============================] - 15s 58ms/step - loss: 1.1288 - accuracy: 0.4516 - val_loss: 0.9578 - val_accuracy: 0.5080\n",
            "Epoch 4/10\n",
            "250/250 [==============================] - 15s 58ms/step - loss: 0.9482 - accuracy: 0.5008 - val_loss: 0.9029 - val_accuracy: 0.5490\n",
            "Epoch 5/10\n",
            "250/250 [==============================] - 15s 59ms/step - loss: 0.7455 - accuracy: 0.6411 - val_loss: 0.5432 - val_accuracy: 0.8325\n",
            "Epoch 6/10\n",
            "250/250 [==============================] - 15s 58ms/step - loss: 0.4879 - accuracy: 0.8317 - val_loss: 0.4328 - val_accuracy: 0.8780\n",
            "Epoch 7/10\n",
            "250/250 [==============================] - 15s 59ms/step - loss: 0.3539 - accuracy: 0.8958 - val_loss: 0.3148 - val_accuracy: 0.9135\n",
            "Epoch 8/10\n",
            "250/250 [==============================] - 16s 63ms/step - loss: 0.2779 - accuracy: 0.9188 - val_loss: 0.3256 - val_accuracy: 0.9195\n",
            "Epoch 9/10\n",
            "250/250 [==============================] - 15s 59ms/step - loss: 0.2525 - accuracy: 0.9256 - val_loss: 0.3741 - val_accuracy: 0.8995\n"
          ]
        }
      ]
    },
    {
      "cell_type": "code",
      "source": [
        "model.evaluate(X_val, y_val, verbose=1)"
      ],
      "metadata": {
        "execution": {
          "iopub.status.busy": "2021-10-28T17:14:45.655628Z",
          "iopub.execute_input": "2021-10-28T17:14:45.656436Z",
          "iopub.status.idle": "2021-10-28T17:15:26.650347Z",
          "shell.execute_reply.started": "2021-10-28T17:14:45.656399Z",
          "shell.execute_reply": "2021-10-28T17:15:26.649551Z"
        },
        "trusted": true,
        "id": "Duln-TnJQprI",
        "colab": {
          "base_uri": "https://localhost:8080/"
        },
        "outputId": "17ef1b16-3a76-4418-fa26-6e112af932de"
      },
      "execution_count": null,
      "outputs": [
        {
          "output_type": "stream",
          "name": "stdout",
          "text": [
            "63/63 [==============================] - 2s 25ms/step - loss: 0.3233 - accuracy: 0.9050\n"
          ]
        },
        {
          "output_type": "execute_result",
          "data": {
            "text/plain": [
              "[0.3232855796813965, 0.9049999713897705]"
            ]
          },
          "metadata": {},
          "execution_count": 13
        }
      ]
    },
    {
      "cell_type": "code",
      "source": [
        "# Visualize Loss & Accuracy\n",
        "\n",
        "%matplotlib inline\n",
        "import matplotlib.pyplot as plt\n",
        "acc = history.history['accuracy']\n",
        "val_acc = history.history['val_accuracy']\n",
        "loss = history.history['loss']\n",
        "val_loss = history.history['val_loss']\n",
        "\n",
        "epochs = range(len(acc))\n",
        "\n",
        "plt.plot(epochs, acc, 'r', label='Training accuracy')\n",
        "plt.plot(epochs, val_acc, 'b', label='Validation accuracy')\n",
        "plt.title('Training and validation accuracy')\n",
        "plt.legend()\n",
        "plt.figure()\n",
        "\n",
        "plt.plot(epochs, loss, 'r', label='Training Loss')\n",
        "plt.plot(epochs, val_loss, 'b', label='Validation Loss')\n",
        "plt.title('Training and validation loss')\n",
        "plt.legend()\n",
        "\n",
        "plt.show()"
      ],
      "metadata": {
        "execution": {
          "iopub.status.busy": "2021-10-28T17:15:31.082882Z",
          "iopub.execute_input": "2021-10-28T17:15:31.08361Z",
          "iopub.status.idle": "2021-10-28T17:15:31.495194Z",
          "shell.execute_reply.started": "2021-10-28T17:15:31.083557Z",
          "shell.execute_reply": "2021-10-28T17:15:31.494441Z"
        },
        "trusted": true,
        "id": "0E60nVznQprO",
        "colab": {
          "base_uri": "https://localhost:8080/",
          "height": 545
        },
        "outputId": "6fa004d2-846b-4f42-e823-115c8fc75990"
      },
      "execution_count": null,
      "outputs": [
        {
          "output_type": "display_data",
          "data": {
            "text/plain": [
              "<Figure size 432x288 with 1 Axes>"
            ],
            "image/png": "[encoded data removed]"
          },
          "metadata": {
            "needs_background": "light"
          }
        },
        {
          "output_type": "display_data",
          "data": {
            "text/plain": [
              "<Figure size 432x288 with 1 Axes>"
            ],
            "image/png": "[encoded data removed]"
          },
          "metadata": {
            "needs_background": "light"
          }
        }
      ]
    },
    {
      "cell_type": "code",
      "source": [
        "# Classify custom sample\n",
        "\n",
        "sentences = [\n",
        "            'i do not want others to feel unhappy just because they have to accommodate to me'\n",
        "            ]\n",
        "for sentence in sentences:\n",
        "    print(sentence)\n",
        "    sentence = clean(sentence)\n",
        "    sentence = tokenizer.texts_to_sequences([sentence])\n",
        "    sentence = pad_sequences(sentence, maxlen=256, truncating='pre')\n",
        "    result = le.inverse_transform(np.argmax(model.predict(sentence), axis=-1))[0]\n",
        "    proba =  np.max(model.predict(sentence))\n",
        "    print(f\"{result} : {proba}\\n\")"
      ],
      "metadata": {
        "execution": {
          "iopub.status.busy": "2021-10-28T17:15:46.84557Z",
          "iopub.execute_input": "2021-10-28T17:15:46.845844Z",
          "iopub.status.idle": "2021-10-28T17:15:49.10411Z",
          "shell.execute_reply.started": "2021-10-28T17:15:46.845813Z",
          "shell.execute_reply": "2021-10-28T17:15:49.103351Z"
        },
        "trusted": true,
        "id": "hFGFd0gQQprP",
        "colab": {
          "base_uri": "https://localhost:8080/"
        },
        "outputId": "1d3f1602-7f1e-45f3-e588-967b07738fbf"
      },
      "execution_count": null,
      "outputs": [
        {
          "output_type": "stream",
          "name": "stdout",
          "text": [
            "i do not want others to feel unhappy just because they have to accommodate to me\n",
            "sadness : 0.9728308916091919\n",
            "\n"
          ]
        }
      ]
    },
    {
      "cell_type": "code",
      "source": [
        "import pickle\n",
        "with open('tokenizer.pickle', 'wb') as f:\n",
        "    pickle.dump(tokenizer, f)\n",
        "    \n",
        "with open('labelEncoder.pickle', 'wb') as f:\n",
        "    pickle.dump(le, f)\n",
        "    \n",
        "    \n",
        "model.save('Emotion Recognition.h5')"
      ],
      "metadata": {
        "id": "1OAz47lBQprP"
      },
      "execution_count": null,
      "outputs": []
    }
  ]
}